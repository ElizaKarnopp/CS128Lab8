{
 "cells": [
  {
   "cell_type": "code",
   "execution_count": null,
   "id": "27448087-184c-4a8d-8071-d1b285112459",
   "metadata": {},
   "outputs": [],
   "source": []
  }
 ],
 "metadata": {
  "kernelspec": {
   "display_name": "Python 3.7",
   "language": "python",
   "name": "py37"
  },
  "language_info": {
   "codemirror_mode": {
    "name": "ipython",
    "version": 3
   },
   "file_extension": ".py",
   "mimetype": "text/x-python",
   "name": "python",
   "nbconvert_exporter": "python",
   "pygments_lexer": "ipython3",
   "version": "3.7.16"
  }
 },
 "nbformat": 4,
 "nbformat_minor": 5
}

x="Lab 8: Git
git pull

Exercise 4: Git It Out There
Create a repository on Github called "CS128Lab8".

Commit this notebook to that repository.

There are multiple ways to do that. One way is to commit straight from the command line in Jupyter. Another (maybe) simpler way is to download this notebook, go to your github repo, and upload through "add files".

After your notebook is put on Github, paste the link to your repository below:"
print("x")
